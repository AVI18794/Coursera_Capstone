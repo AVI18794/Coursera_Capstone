{
  "nbformat": 4,
  "nbformat_minor": 0,
  "metadata": {
    "colab": {
      "name": "Document Redactor.ipynb",
      "provenance": [],
      "authorship_tag": "ABX9TyOIrZahzbLhuOHCqgaKOJAS",
      "include_colab_link": true
    },
    "kernelspec": {
      "name": "python3",
      "display_name": "Python 3"
    }
  },
  "cells": [
    {
      "cell_type": "markdown",
      "metadata": {
        "id": "view-in-github",
        "colab_type": "text"
      },
      "source": [
        "<a href=\"https://colab.research.google.com/github/AVI18794/Coursera_Capstone/blob/master/Document_Redactor.ipynb\" target=\"_parent\"><img src=\"https://colab.research.google.com/assets/colab-badge.svg\" alt=\"Open In Colab\"/></a>"
      ]
    },
    {
      "cell_type": "code",
      "metadata": {
        "id": "LejfWYyZGRjk",
        "colab_type": "code",
        "colab": {
          "base_uri": "https://localhost:8080/",
          "height": 104
        },
        "outputId": "d92c2816-a95f-4ee5-c039-f33e5bf8e924"
      },
      "source": [
        "import spacy\n",
        "#Load the model\n",
        "nlp = spacy.load('en_core_web_sm')\n",
        "#Replace the token with 'REDACTED' if it is a name\n",
        "def replace_name_with_placeholder(token):\n",
        "  if token.ent_iob!=0 and token.ent_type_=='PERSON':\n",
        "    return \"[REDACTED]\"\n",
        "  else:\n",
        "    return token.string\n",
        "\n",
        "#Loop through all the entities in a document and check if they are names\n",
        "def scrub(text):\n",
        "  doc = nlp(text)\n",
        "  for ent in doc.ents:\n",
        "    ent.merge()\n",
        "    tokens = map(replace_name_with_placeholder,doc)\n",
        "    return \"\".join(tokens)\n",
        "\n",
        "\n",
        "text = \"\"\"\n",
        "In 1950, Alan Turing published his famous article \"Computing Machinery and Intelligence\". In 1957, Noam Chomsky’s \n",
        "Syntactic Structures revolutionized Linguistics with 'universal grammar', a rule based system of syntactic structures.\n",
        "\"\"\"\n",
        "print(scrub(text))\n"
      ],
      "execution_count": 1,
      "outputs": [
        {
          "output_type": "stream",
          "text": [
            "\n",
            "In 1950, [REDACTED][REDACTED]published his famous article \"Computing Machinery and Intelligence\". In 1957, [REDACTED][REDACTED][REDACTED]\n",
            "[REDACTED][REDACTED]revolutionized Linguistics with 'universal grammar', a rule based system of syntactic structures.\n",
            "\n"
          ],
          "name": "stdout"
        }
      ]
    },
    {
      "cell_type": "code",
      "metadata": {
        "id": "bYcuiZ4B3mP2",
        "colab_type": "code",
        "colab": {}
      },
      "source": [
        ""
      ],
      "execution_count": 0,
      "outputs": []
    }
  ]
}