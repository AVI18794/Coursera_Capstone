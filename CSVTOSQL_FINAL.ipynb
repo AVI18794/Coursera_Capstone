{
 "cells": [
  {
   "cell_type": "markdown",
   "metadata": {},
   "source": [
    "# Conversion  of CSV to SQL Using Python"
   ]
  },
  {
   "cell_type": "code",
   "execution_count": null,
   "metadata": {},
   "outputs": [],
   "source": [
    "#Import all the required libraries\n",
    "\n",
    "import glob\n",
    "import os\n",
    "import pandas as pd\n",
    "import pyodbc\n",
    "import csv\n",
    "import time\n",
    "import schedule\n",
    "import urllib\n",
    "import sqlalchemy\n"
   ]
  },
  {
   "cell_type": "code",
   "execution_count": null,
   "metadata": {},
   "outputs": [],
   "source": [
    "def csv_to_sql():\n",
    "    #Server Credentials\n",
    "    server = '10.7.8.4' \n",
    "    database = 'IOT_REST' \n",
    "    username = 'iotuser' \n",
    "    password = 'iot@bfl1234' \n",
    "    Table_Name='CSVSQL2_TEST'\n",
    "    \n",
    "    #Creating a connection object and connect it to the database.\n",
    "\n",
    "    params = urllib.parse.quote_plus('DRIVER={ODBC Driver 13 for SQL Server};SERVER='+server+';DATABASE='+database+';UID='+username+';PWD='+ password)\n",
    "    engine=sqlalchemy.create_engine(\"mssql+pyodbc:///?odbc_connect=%s\" % params)\n",
    "    engine.connect()\n",
    "    \n",
    "    \n",
    "    # Logic to find the latest created file.\n",
    "    list_of_files=glob.glob('D:\\\\datafrompendrive\\\\*')\n",
    "    latest_file= max(list_of_files,key=os.path.getctime)\n",
    "    print( \" Newly Created File is : \",latest_file)\n",
    "    df=pd.read_csv(latest_file,skiprows=31)\n",
    "    \n",
    "    \n",
    "    #Logic to write the data to the SQL Server\n",
    "    data=df[['Inspection Date Time','Job Serial Number','Layout','RUNOUT','DIA','Shift']]\n",
    "    data.rename(columns={'Inspection Date Time':'InspectionDateTime','Job Serial Number': 'JobSerialNumber',\n",
    "                         'Layout':'Layout','RUNOUT':'RUNOUT','DIA':'DIA','Shift':'Shift'},inplace=True)\n",
    "    \n",
    "    #Writing data to the sql table\n",
    "    data.to_sql(name='CSVSQL2_TEST',con=engine,index=False,if_exists='append')\n",
    "    print(\"Data Inserted Successfully!!!!\")\n",
    "\n",
    "\n",
    "\n",
    "#Calling the program\n",
    "\n",
    "schedule.every().day.at(\"09:31\").do(csv_to_sql)\n",
    "# schedule.every().day.at(\"00:30\").do(csv_to_sql)\n",
    "# schedule.every().day.at(\"07:30\").do(csv_to_sql)\n",
    "\n",
    "while True:\n",
    "    schedule.run_pending()\n",
    "    time.sleep(1)"
   ]
  },
  {
   "cell_type": "code",
   "execution_count": null,
   "metadata": {},
   "outputs": [],
   "source": []
  }
 ],
 "metadata": {
  "kernelspec": {
   "display_name": "Python 3",
   "language": "python",
   "name": "python3"
  },
  "language_info": {
   "codemirror_mode": {
    "name": "ipython",
    "version": 3
   },
   "file_extension": ".py",
   "mimetype": "text/x-python",
   "name": "python",
   "nbconvert_exporter": "python",
   "pygments_lexer": "ipython3",
   "version": "3.6.6"
  }
 },
 "nbformat": 4,
 "nbformat_minor": 2
}
